{
 "cells": [
  {
   "metadata": {},
   "cell_type": "markdown",
   "source": "# Data Science Tools and Ecosystem",
   "id": "97244790067c41f8"
  },
  {
   "metadata": {},
   "cell_type": "markdown",
   "source": "In this notebook, Data Science Tools and Ecosystem are summarized.",
   "id": "585f411a3d3886b0"
  },
  {
   "metadata": {},
   "cell_type": "markdown",
   "source": [
    "Objectives:\n",
    "- List popular languages for Data Science\n",
    "- List commonly used libraries used by Data Scientists\n",
    "- List of Data Science Tools"
   ],
   "id": "8c0cacc93aad95df"
  },
  {
   "metadata": {},
   "cell_type": "markdown",
   "source": "Some of the popular languages that Data Scientists use are:",
   "id": "6b2f8e3cb6411cbd"
  },
  {
   "metadata": {},
   "cell_type": "markdown",
   "source": [
    "1. python\n",
    "2. R\n",
    "3. SQL"
   ],
   "id": "1851331f4d52a03b"
  },
  {
   "metadata": {},
   "cell_type": "markdown",
   "source": "Some of the commonly used libraries used by Data Scientists include:",
   "id": "52b2a18766aedf33"
  },
  {
   "metadata": {},
   "cell_type": "markdown",
   "source": [
    "1. Pandas\n",
    "2. NumPy\n",
    "3. Scikit-Learn\n",
    "4. Matplotlib\n",
    "5. Tensorflow"
   ],
   "id": "677c67e8ab15a547"
  },
  {
   "metadata": {},
   "cell_type": "markdown",
   "source": [
    "| Data Science Tools  |\n",
    "|---------------------|\n",
    "| Jupyter Notebook    |\n",
    "| Spyder              |\n",
    "| VS Code             |"
   ],
   "id": "ea96ba05ca8e7904"
  },
  {
   "metadata": {},
   "cell_type": "markdown",
   "source": "### Below are a few examples of evaluating arithmetic expressions in Python",
   "id": "f87f9b78bee5fda0"
  },
  {
   "metadata": {},
   "cell_type": "markdown",
   "source": "This a simple arithmetic expression to mutiply then add integers.",
   "id": "e4f56b905ea90578"
  },
  {
   "metadata": {
    "ExecuteTime": {
     "end_time": "2025-02-20T16:11:02.985729Z",
     "start_time": "2025-02-20T16:11:02.981437Z"
    }
   },
   "cell_type": "code",
   "source": "(3*4)+5",
   "id": "ed86e3d14356c0aa",
   "outputs": [
    {
     "data": {
      "text/plain": [
       "17"
      ]
     },
     "execution_count": 4,
     "metadata": {},
     "output_type": "execute_result"
    }
   ],
   "execution_count": 4
  },
  {
   "metadata": {},
   "cell_type": "markdown",
   "source": "This will convert 200 minutes to hours by diving by 60.",
   "id": "220eee6c8617f77f"
  },
  {
   "metadata": {
    "ExecuteTime": {
     "end_time": "2025-02-20T16:11:35.114148Z",
     "start_time": "2025-02-20T16:11:35.110567Z"
    }
   },
   "cell_type": "code",
   "source": "200 / 60",
   "id": "26800e46d280ef67",
   "outputs": [
    {
     "data": {
      "text/plain": [
       "3.3333333333333335"
      ]
     },
     "execution_count": 5,
     "metadata": {},
     "output_type": "execute_result"
    }
   ],
   "execution_count": 5
  },
  {
   "metadata": {},
   "cell_type": "markdown",
   "source": "## Author",
   "id": "c47757b4cb489cf3"
  },
  {
   "metadata": {},
   "cell_type": "markdown",
   "source": "WANG Yuepeng",
   "id": "4d40ef81a01f72eb"
  }
 ],
 "metadata": {
  "kernelspec": {
   "display_name": "Python 3",
   "language": "python",
   "name": "python3"
  },
  "language_info": {
   "codemirror_mode": {
    "name": "ipython",
    "version": 2
   },
   "file_extension": ".py",
   "mimetype": "text/x-python",
   "name": "python",
   "nbconvert_exporter": "python",
   "pygments_lexer": "ipython2",
   "version": "2.7.6"
  }
 },
 "nbformat": 4,
 "nbformat_minor": 5
}
